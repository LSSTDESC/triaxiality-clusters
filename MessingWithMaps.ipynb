{
 "cells": [
  {
   "cell_type": "markdown",
   "id": "ae31c510-a66d-4219-871e-4ae91afb840d",
   "metadata": {},
   "source": [
    "## Messing with Perlmutter Maps\n",
    "\n",
    "Getting some of the files from perlmutter, and messing with them/getting a hang of the data format"
   ]
  },
  {
   "cell_type": "code",
   "execution_count": 1,
   "id": "70d835a0-9011-454b-9c35-2beed73f959e",
   "metadata": {
    "tags": []
   },
   "outputs": [],
   "source": [
    "import h5py\n",
    "import numpy as np\n",
    "import matplotlib.pyplot as plt\n",
    "from astropy.io import ascii"
   ]
  },
  {
   "cell_type": "code",
   "execution_count": 12,
   "id": "ffb912b2-10bc-4eed-af25-ea4d5816acc6",
   "metadata": {
    "tags": []
   },
   "outputs": [],
   "source": [
    "# reading in halo properties\n",
    "data = ascii.read(\"triaxiality-clusters/properties.csv\",format='csv')  \n",
    "\n",
    "# reading in the hdf5 files\n",
    "gridded_map_file = \"triaxiality-clusters/10503512925_0_10.0_gmaps.hdf5\" # surface density converted to kappa\n",
    "rt_map_file = \"triaxiality-clusters/10503512925_0_raytraced_maps.hdf5\" # ray traced version\n",
    "lens_mock_file = \"triaxiality-clusters/10503512925_0_lensing_mocks.hdf5\" # this is some randomly placed galaxies with properties assigned based properties.csv\n",
    "\n",
    "gridded_map = h5py.File(gridded_map_file, \"r\")\n",
    "rt_map = h5py.File(rt_map_file, \"r\")\n",
    "lens_mock = h5py.File(lens_mock_file, \"r\")"
   ]
  },
  {
   "cell_type": "code",
   "execution_count": 20,
   "id": "421daa26-336e-4ae2-857b-a7590a11f24f",
   "metadata": {
    "tags": []
   },
   "outputs": [
    {
     "name": "stdout",
     "output_type": "stream",
     "text": [
      "<KeysViewHDF5 ['halo_plane13', 'plane0', 'plane1', 'plane10', 'plane11', 'plane12', 'plane14', 'plane15', 'plane16', 'plane17', 'plane2', 'plane3', 'plane4', 'plane5', 'plane6', 'plane7', 'plane8', 'plane9']>\n"
     ]
    }
   ],
   "source": [
    "# getting keys\n",
    "gm_keys = gridded_map.keys()\n",
    "rt_keys = rt_map.keys()\n",
    "lens_keys = lens_mock.keys()\n",
    "\n",
    "print(lens_keys)"
   ]
  },
  {
   "cell_type": "code",
   "execution_count": 41,
   "id": "73107eaf-3da6-46de-a44a-08fb5cab47bb",
   "metadata": {
    "tags": []
   },
   "outputs": [
    {
     "name": "stdout",
     "output_type": "stream",
     "text": [
      "<KeysViewHDF5 ['kappa0', 'shear1', 'shear2', 'x1', 'x2', 'zs']>\n",
      "<KeysViewHDF5 ['kappa0', 'shear1', 'shear2', 'x1', 'x2', 'zs']>\n"
     ]
    }
   ],
   "source": [
    "plane0_keys = lens_mock[\"plane0\"].keys()\n",
    "lm_plane0 = lens_mock[\"plane0\"]\n",
    "print(plane0_keys)\n",
    "\n",
    "#print(lm_plane0['kappa0'])\n",
    "kappa0 = np.array(lm_plane0['kappa0'])\n",
    "#print(kappa0)\n",
    "\n",
    "halo_plane_keys = lens_mock[\"plane0\"].keys()\n",
    "print(halo_plane_keys) #all these planes share the same keys, so that's the easiest way to loop through the data"
   ]
  },
  {
   "cell_type": "code",
   "execution_count": 44,
   "id": "e9037d81-2963-4b59-9607-486ace873309",
   "metadata": {
    "tags": []
   },
   "outputs": [
    {
     "name": "stdout",
     "output_type": "stream",
     "text": [
      "<KeysViewHDF5 ['halo_plane13', 'plane0', 'plane1', 'plane10', 'plane11', 'plane12', 'plane14', 'plane15', 'plane16', 'plane17', 'plane2', 'plane3', 'plane4', 'plane5', 'plane6', 'plane7', 'plane8', 'plane9']>\n",
      "<KeysViewHDF5 ['halo_plane13', 'plane0', 'plane1', 'plane10', 'plane11', 'plane12', 'plane14', 'plane15', 'plane16', 'plane17', 'plane2', 'plane3', 'plane4', 'plane5', 'plane6', 'plane7', 'plane8', 'plane9']>\n",
      "<KeysViewHDF5 ['alpha1', 'alpha2', 'kappa0', 'shear1', 'shear2', 'zl', 'zs']>\n",
      "<KeysViewHDF5 ['alpha1', 'alpha2', 'kappa0', 'shear1', 'shear2', 'zs']>\n"
     ]
    }
   ],
   "source": [
    "# seeing if gridded map, rt have the same keys\n",
    "print(gm_keys)\n",
    "print(rt_keys)\n",
    "\n",
    "print(gridded_map[\"plane0\"].keys())\n",
    "print(rt_map[\"plane0\"].keys())\n",
    "\n",
    "# should I make a super generic function for parsing through this data, or should I do something else?"
   ]
  },
  {
   "cell_type": "code",
   "execution_count": null,
   "id": "41039fef-1737-42b4-be22-90553432fa0b",
   "metadata": {},
   "outputs": [],
   "source": [
    "def extract_data(f):\n",
    "    # get the keys\n",
    "    keys = f.keys()\n",
    "    \n",
    "    # extracting each plane\n",
    "    plane\n",
    "    for k in keys:\n",
    "        # blah, not sure if this is something even worth doing\n",
    "        # need to see what's worth it - maybe do a function that, per plane, does what's necessary?\n",
    "        # am I just doing the undergrads work rn?"
   ]
  }
 ],
 "metadata": {
  "kernelspec": {
   "display_name": "Python 3 (ipykernel)",
   "language": "python",
   "name": "python3"
  },
  "language_info": {
   "codemirror_mode": {
    "name": "ipython",
    "version": 3
   },
   "file_extension": ".py",
   "mimetype": "text/x-python",
   "name": "python",
   "nbconvert_exporter": "python",
   "pygments_lexer": "ipython3",
   "version": "3.11.4"
  }
 },
 "nbformat": 4,
 "nbformat_minor": 5
}
